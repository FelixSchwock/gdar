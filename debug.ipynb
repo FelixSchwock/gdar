{
 "cells": [
  {
   "cell_type": "code",
   "id": "initial_id",
   "metadata": {
    "collapsed": true,
    "ExecuteTime": {
     "end_time": "2025-07-23T20:30:05.765694Z",
     "start_time": "2025-07-23T20:30:04.975151Z"
    }
   },
   "source": [
    "import numpy as np\n",
    "from gdar.graph import Graph"
   ],
   "outputs": [],
   "execution_count": 1
  },
  {
   "metadata": {
    "ExecuteTime": {
     "end_time": "2025-07-22T22:03:35.672382Z",
     "start_time": "2025-07-22T22:03:24.531277Z"
    }
   },
   "cell_type": "code",
   "source": "! pip install scipy",
   "id": "8438aa4be751f8c9",
   "outputs": [
    {
     "name": "stdout",
     "output_type": "stream",
     "text": [
      "Collecting scipy\n",
      "  Downloading scipy-1.16.0-cp311-cp311-win_amd64.whl.metadata (60 kB)\n",
      "Requirement already satisfied: numpy<2.6,>=1.25.2 in c:\\users\\fschwock\\appdata\\local\\anaconda3\\envs\\test2\\lib\\site-packages (from scipy) (2.3.1)\n",
      "Downloading scipy-1.16.0-cp311-cp311-win_amd64.whl (38.6 MB)\n",
      "   ---------------------------------------- 0.0/38.6 MB ? eta -:--:--\n",
      "   ------- -------------------------------- 7.3/38.6 MB 50.2 MB/s eta 0:00:01\n",
      "   -------------------------- ------------- 26.0/38.6 MB 65.7 MB/s eta 0:00:01\n",
      "   ---------------------------------------- 38.6/38.6 MB 64.5 MB/s eta 0:00:00\n",
      "Installing collected packages: scipy\n",
      "Successfully installed scipy-1.16.0\n"
     ]
    }
   ],
   "execution_count": 4
  }
 ],
 "metadata": {
  "kernelspec": {
   "display_name": "Python 3",
   "language": "python",
   "name": "python3"
  },
  "language_info": {
   "codemirror_mode": {
    "name": "ipython",
    "version": 2
   },
   "file_extension": ".py",
   "mimetype": "text/x-python",
   "name": "python",
   "nbconvert_exporter": "python",
   "pygments_lexer": "ipython2",
   "version": "2.7.6"
  }
 },
 "nbformat": 4,
 "nbformat_minor": 5
}
